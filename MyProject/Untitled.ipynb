{
 "cells": [
  {
   "cell_type": "code",
   "execution_count": 1,
   "id": "8b6f3d3f",
   "metadata": {},
   "outputs": [],
   "source": [
    "import numpy as np"
   ]
  },
  {
   "cell_type": "code",
   "execution_count": 2,
   "id": "e981ae49",
   "metadata": {},
   "outputs": [],
   "source": [
    "from skimage.graph import cut_normalized"
   ]
  },
  {
   "cell_type": "code",
   "execution_count": 3,
   "id": "004fabb7",
   "metadata": {},
   "outputs": [],
   "source": [
    "from skimage.io import imread"
   ]
  },
  {
   "cell_type": "code",
   "execution_count": 4,
   "id": "1889323f",
   "metadata": {},
   "outputs": [],
   "source": [
    "import matplotlib.pyplot as plt"
   ]
  },
  {
   "cell_type": "code",
   "execution_count": 5,
   "id": "f8430915",
   "metadata": {},
   "outputs": [],
   "source": [
    "from PIL import Image"
   ]
  },
  {
   "cell_type": "code",
   "execution_count": 6,
   "id": "35f66fcc",
   "metadata": {},
   "outputs": [],
   "source": [
    "import scipy.sparse as sp"
   ]
  },
  {
   "cell_type": "code",
   "execution_count": 7,
   "id": "0732449b",
   "metadata": {},
   "outputs": [],
   "source": [
    "def foreground_background_segmentation(image_path):\n",
    "    # Load the input image\n",
    "    image = imread(image_path)\n",
    "\n",
    "    # Graph Construction\n",
    "    graph, node_indices = construct_graph(image)\n",
    "\n",
    "    # Minimum Cut Computation\n",
    "    minimum_cut = find_minimum_cut(graph)\n",
    "\n",
    "    # Label Assignment\n",
    "    segmentation = assign_labels(minimum_cut, node_indices)\n",
    "\n",
    "    return segmentation"
   ]
  },
  {
   "cell_type": "code",
   "execution_count": 8,
   "id": "92ee5584",
   "metadata": {},
   "outputs": [],
   "source": [
    "\n",
    "def construct_graph(image):\n",
    "    height, width = image.shape[:2]\n",
    "    num_nodes = height * width\n",
    "\n",
    "    # Create lists to store the row, column, and weight values\n",
    "    rows = []\n",
    "    cols = []\n",
    "    weights = []\n",
    "\n",
    "    # Map node indices to (i, j) pixel coordinates\n",
    "    node_indices = np.arange(num_nodes).reshape(height, width)\n",
    "\n",
    "    # Add edges between neighboring pixels\n",
    "    for i in range(height):\n",
    "        for j in range(width):\n",
    "            current_node = node_indices[i, j]\n",
    "\n",
    "            # Check and connect with neighboring pixels\n",
    "            if i > 0:\n",
    "                rows.append(current_node)\n",
    "                cols.append(node_indices[i-1, j])\n",
    "                weights.append(calculate_edge_weight(image[i, j], image[i-1, j]))\n",
    "            if j > 0:\n",
    "                rows.append(current_node)\n",
    "                cols.append(node_indices[i, j-1])\n",
    "                weights.append(calculate_edge_weight(image[i, j], image[i, j-1]))\n",
    "            if i < height - 1:\n",
    "                rows.append(current_node)\n",
    "                cols.append(node_indices[i+1, j])\n",
    "                weights.append(calculate_edge_weight(image[i, j], image[i+1, j]))\n",
    "            if j < width - 1:\n",
    "                rows.append(current_node)\n",
    "                cols.append(node_indices[i, j+1])\n",
    "                weights.append(calculate_edge_weight(image[i, j], image[i, j+1]))\n",
    "\n",
    "    # Convert the lists to NumPy arrays\n",
    "    rows = np.array(rows)\n",
    "    cols = np.array(cols)\n",
    "    weights = np.array(weights)\n",
    "\n",
    "    # Create the sparse graph in COO format\n",
    "    graph = sp.coo_matrix((weights, (rows, cols)), shape=(num_nodes, num_nodes)).tocsr()\n",
    "\n",
    "    return graph, node_indices\n"
   ]
  },
  {
   "cell_type": "code",
   "execution_count": 9,
   "id": "b2dbfe0e",
   "metadata": {},
   "outputs": [],
   "source": [
    "def calculate_edge_weight(pixel1, pixel2):\n",
    "    # Calculate the dissimilarity or similarity between two pixels\n",
    "    # based on color, texture, or other visual features\n",
    "    # Return the weight of the edge between the two pixels\n",
    "    return np.abs(pixel1 - pixel2)  # Example: using absolute color difference"
   ]
  },
  {
   "cell_type": "code",
   "execution_count": 10,
   "id": "f3ac067f",
   "metadata": {},
   "outputs": [],
   "source": [
    "def find_minimum_cut(graph):\n",
    "    # Apply a minimum cut algorithm to compute the minimum cut\n",
    "    # Return the minimum cut, which represents the optimal partitioning\n",
    "    # of the graph into foreground and background regions\n",
    "    _, minimum_cut = cut_normalized(graph)\n",
    "    return minimum_cut"
   ]
  },
  {
   "cell_type": "code",
   "execution_count": 11,
   "id": "119df288",
   "metadata": {},
   "outputs": [],
   "source": [
    "def assign_labels(minimum_cut, node_indices):\n",
    "    height, width = node_indices.shape\n",
    "    segmentation = np.zeros((height, width))\n",
    "\n",
    "    # Assign labels based on the minimum cut result\n",
    "    foreground_indices = np.where(minimum_cut == 1)[0]\n",
    "    foreground_pixels = node_indices.flatten()[foreground_indices]\n",
    "    segmentation.flat[foreground_pixels] = 1\n",
    "\n",
    "    return segmentation"
   ]
  },
  {
   "cell_type": "code",
   "execution_count": 12,
   "id": "f7ccb2c2",
   "metadata": {},
   "outputs": [
    {
     "ename": "ValueError",
     "evalue": "row, column, and data arrays must be 1-D",
     "output_type": "error",
     "traceback": [
      "\u001b[1;31m---------------------------------------------------------------------------\u001b[0m",
      "\u001b[1;31mValueError\u001b[0m                                Traceback (most recent call last)",
      "Cell \u001b[1;32mIn[12], line 5\u001b[0m\n\u001b[0;32m      2\u001b[0m image_path \u001b[38;5;241m=\u001b[39m \u001b[38;5;124mr\u001b[39m\u001b[38;5;124m'\u001b[39m\u001b[38;5;124mC:\u001b[39m\u001b[38;5;124m\\\u001b[39m\u001b[38;5;124mUsers\u001b[39m\u001b[38;5;124m\\\u001b[39m\u001b[38;5;124mrohit\u001b[39m\u001b[38;5;124m\\\u001b[39m\u001b[38;5;124mDownloads\u001b[39m\u001b[38;5;124m\\\u001b[39m\u001b[38;5;124mScreenshot 2023-05-29 023446.png\u001b[39m\u001b[38;5;124m'\u001b[39m\n\u001b[0;32m      4\u001b[0m \u001b[38;5;66;03m# Perform foreground/background segmentation\u001b[39;00m\n\u001b[1;32m----> 5\u001b[0m segmentation_result \u001b[38;5;241m=\u001b[39m \u001b[43mforeground_background_segmentation\u001b[49m\u001b[43m(\u001b[49m\u001b[43mimage_path\u001b[49m\u001b[43m)\u001b[49m\n",
      "Cell \u001b[1;32mIn[7], line 6\u001b[0m, in \u001b[0;36mforeground_background_segmentation\u001b[1;34m(image_path)\u001b[0m\n\u001b[0;32m      3\u001b[0m image \u001b[38;5;241m=\u001b[39m imread(image_path)\n\u001b[0;32m      5\u001b[0m \u001b[38;5;66;03m# Graph Construction\u001b[39;00m\n\u001b[1;32m----> 6\u001b[0m graph, node_indices \u001b[38;5;241m=\u001b[39m \u001b[43mconstruct_graph\u001b[49m\u001b[43m(\u001b[49m\u001b[43mimage\u001b[49m\u001b[43m)\u001b[49m\n\u001b[0;32m      8\u001b[0m \u001b[38;5;66;03m# Minimum Cut Computation\u001b[39;00m\n\u001b[0;32m      9\u001b[0m minimum_cut \u001b[38;5;241m=\u001b[39m find_minimum_cut(graph)\n",
      "Cell \u001b[1;32mIn[8], line 42\u001b[0m, in \u001b[0;36mconstruct_graph\u001b[1;34m(image)\u001b[0m\n\u001b[0;32m     39\u001b[0m weights \u001b[38;5;241m=\u001b[39m np\u001b[38;5;241m.\u001b[39marray(weights)\n\u001b[0;32m     41\u001b[0m \u001b[38;5;66;03m# Create the sparse graph in COO format\u001b[39;00m\n\u001b[1;32m---> 42\u001b[0m graph \u001b[38;5;241m=\u001b[39m \u001b[43msp\u001b[49m\u001b[38;5;241;43m.\u001b[39;49m\u001b[43mcoo_matrix\u001b[49m\u001b[43m(\u001b[49m\u001b[43m(\u001b[49m\u001b[43mweights\u001b[49m\u001b[43m,\u001b[49m\u001b[43m \u001b[49m\u001b[43m(\u001b[49m\u001b[43mrows\u001b[49m\u001b[43m,\u001b[49m\u001b[43m \u001b[49m\u001b[43mcols\u001b[49m\u001b[43m)\u001b[49m\u001b[43m)\u001b[49m\u001b[43m,\u001b[49m\u001b[43m \u001b[49m\u001b[43mshape\u001b[49m\u001b[38;5;241;43m=\u001b[39;49m\u001b[43m(\u001b[49m\u001b[43mnum_nodes\u001b[49m\u001b[43m,\u001b[49m\u001b[43m \u001b[49m\u001b[43mnum_nodes\u001b[49m\u001b[43m)\u001b[49m\u001b[43m)\u001b[49m\u001b[38;5;241m.\u001b[39mtocsr()\n\u001b[0;32m     44\u001b[0m \u001b[38;5;28;01mreturn\u001b[39;00m graph, node_indices\n",
      "File \u001b[1;32m~\\AppData\\Local\\Programs\\Python\\Python310\\lib\\site-packages\\scipy\\sparse\\_coo.py:197\u001b[0m, in \u001b[0;36mcoo_matrix.__init__\u001b[1;34m(self, arg1, shape, dtype, copy)\u001b[0m\n\u001b[0;32m    194\u001b[0m \u001b[38;5;28;01mif\u001b[39;00m dtype \u001b[38;5;129;01mis\u001b[39;00m \u001b[38;5;129;01mnot\u001b[39;00m \u001b[38;5;28;01mNone\u001b[39;00m:\n\u001b[0;32m    195\u001b[0m     \u001b[38;5;28mself\u001b[39m\u001b[38;5;241m.\u001b[39mdata \u001b[38;5;241m=\u001b[39m \u001b[38;5;28mself\u001b[39m\u001b[38;5;241m.\u001b[39mdata\u001b[38;5;241m.\u001b[39mastype(dtype, copy\u001b[38;5;241m=\u001b[39m\u001b[38;5;28;01mFalse\u001b[39;00m)\n\u001b[1;32m--> 197\u001b[0m \u001b[38;5;28;43mself\u001b[39;49m\u001b[38;5;241;43m.\u001b[39;49m\u001b[43m_check\u001b[49m\u001b[43m(\u001b[49m\u001b[43m)\u001b[49m\n",
      "File \u001b[1;32m~\\AppData\\Local\\Programs\\Python\\Python310\\lib\\site-packages\\scipy\\sparse\\_coo.py:282\u001b[0m, in \u001b[0;36mcoo_matrix._check\u001b[1;34m(self)\u001b[0m\n\u001b[0;32m    279\u001b[0m \u001b[38;5;28mself\u001b[39m\u001b[38;5;241m.\u001b[39mcol \u001b[38;5;241m=\u001b[39m np\u001b[38;5;241m.\u001b[39masarray(\u001b[38;5;28mself\u001b[39m\u001b[38;5;241m.\u001b[39mcol, dtype\u001b[38;5;241m=\u001b[39midx_dtype)\n\u001b[0;32m    280\u001b[0m \u001b[38;5;28mself\u001b[39m\u001b[38;5;241m.\u001b[39mdata \u001b[38;5;241m=\u001b[39m to_native(\u001b[38;5;28mself\u001b[39m\u001b[38;5;241m.\u001b[39mdata)\n\u001b[1;32m--> 282\u001b[0m \u001b[38;5;28;01mif\u001b[39;00m \u001b[38;5;28;43mself\u001b[39;49m\u001b[38;5;241;43m.\u001b[39;49m\u001b[43mnnz\u001b[49m \u001b[38;5;241m>\u001b[39m \u001b[38;5;241m0\u001b[39m:\n\u001b[0;32m    283\u001b[0m     \u001b[38;5;28;01mif\u001b[39;00m \u001b[38;5;28mself\u001b[39m\u001b[38;5;241m.\u001b[39mrow\u001b[38;5;241m.\u001b[39mmax() \u001b[38;5;241m>\u001b[39m\u001b[38;5;241m=\u001b[39m \u001b[38;5;28mself\u001b[39m\u001b[38;5;241m.\u001b[39mshape[\u001b[38;5;241m0\u001b[39m]:\n\u001b[0;32m    284\u001b[0m         \u001b[38;5;28;01mraise\u001b[39;00m \u001b[38;5;167;01mValueError\u001b[39;00m(\u001b[38;5;124m'\u001b[39m\u001b[38;5;124mrow index exceeds matrix dimensions\u001b[39m\u001b[38;5;124m'\u001b[39m)\n",
      "File \u001b[1;32m~\\AppData\\Local\\Programs\\Python\\Python310\\lib\\site-packages\\scipy\\sparse\\_base.py:299\u001b[0m, in \u001b[0;36mspmatrix.nnz\u001b[1;34m(self)\u001b[0m\n\u001b[0;32m    291\u001b[0m \u001b[38;5;129m@property\u001b[39m\n\u001b[0;32m    292\u001b[0m \u001b[38;5;28;01mdef\u001b[39;00m \u001b[38;5;21mnnz\u001b[39m(\u001b[38;5;28mself\u001b[39m):\n\u001b[0;32m    293\u001b[0m \u001b[38;5;250m    \u001b[39m\u001b[38;5;124;03m\"\"\"Number of stored values, including explicit zeros.\u001b[39;00m\n\u001b[0;32m    294\u001b[0m \n\u001b[0;32m    295\u001b[0m \u001b[38;5;124;03m    See also\u001b[39;00m\n\u001b[0;32m    296\u001b[0m \u001b[38;5;124;03m    --------\u001b[39;00m\n\u001b[0;32m    297\u001b[0m \u001b[38;5;124;03m    count_nonzero : Number of non-zero entries\u001b[39;00m\n\u001b[0;32m    298\u001b[0m \u001b[38;5;124;03m    \"\"\"\u001b[39;00m\n\u001b[1;32m--> 299\u001b[0m     \u001b[38;5;28;01mreturn\u001b[39;00m \u001b[38;5;28;43mself\u001b[39;49m\u001b[38;5;241;43m.\u001b[39;49m\u001b[43mgetnnz\u001b[49m\u001b[43m(\u001b[49m\u001b[43m)\u001b[49m\n",
      "File \u001b[1;32m~\\AppData\\Local\\Programs\\Python\\Python310\\lib\\site-packages\\scipy\\sparse\\_coo.py:249\u001b[0m, in \u001b[0;36mcoo_matrix.getnnz\u001b[1;34m(self, axis)\u001b[0m\n\u001b[0;32m    244\u001b[0m         \u001b[38;5;28;01mraise\u001b[39;00m \u001b[38;5;167;01mValueError\u001b[39;00m(\u001b[38;5;124m'\u001b[39m\u001b[38;5;124mrow, column, and data array must all be the \u001b[39m\u001b[38;5;124m'\u001b[39m\n\u001b[0;32m    245\u001b[0m                          \u001b[38;5;124m'\u001b[39m\u001b[38;5;124msame length\u001b[39m\u001b[38;5;124m'\u001b[39m)\n\u001b[0;32m    247\u001b[0m     \u001b[38;5;28;01mif\u001b[39;00m \u001b[38;5;28mself\u001b[39m\u001b[38;5;241m.\u001b[39mdata\u001b[38;5;241m.\u001b[39mndim \u001b[38;5;241m!=\u001b[39m \u001b[38;5;241m1\u001b[39m \u001b[38;5;129;01mor\u001b[39;00m \u001b[38;5;28mself\u001b[39m\u001b[38;5;241m.\u001b[39mrow\u001b[38;5;241m.\u001b[39mndim \u001b[38;5;241m!=\u001b[39m \u001b[38;5;241m1\u001b[39m \u001b[38;5;129;01mor\u001b[39;00m \\\n\u001b[0;32m    248\u001b[0m             \u001b[38;5;28mself\u001b[39m\u001b[38;5;241m.\u001b[39mcol\u001b[38;5;241m.\u001b[39mndim \u001b[38;5;241m!=\u001b[39m \u001b[38;5;241m1\u001b[39m:\n\u001b[1;32m--> 249\u001b[0m         \u001b[38;5;28;01mraise\u001b[39;00m \u001b[38;5;167;01mValueError\u001b[39;00m(\u001b[38;5;124m'\u001b[39m\u001b[38;5;124mrow, column, and data arrays must be 1-D\u001b[39m\u001b[38;5;124m'\u001b[39m)\n\u001b[0;32m    251\u001b[0m     \u001b[38;5;28;01mreturn\u001b[39;00m \u001b[38;5;28mint\u001b[39m(nnz)\n\u001b[0;32m    253\u001b[0m \u001b[38;5;28;01mif\u001b[39;00m axis \u001b[38;5;241m<\u001b[39m \u001b[38;5;241m0\u001b[39m:\n",
      "\u001b[1;31mValueError\u001b[0m: row, column, and data arrays must be 1-D"
     ]
    }
   ],
   "source": [
    "# Custom input image path\n",
    "image_path = r'C:\\Users\\rohit\\Downloads\\Screenshot 2023-05-29 023446.png'\n",
    "\n",
    "# Perform foreground/background segmentation\n",
    "segmentation_result = foreground_background_segmentation(image_path)"
   ]
  },
  {
   "cell_type": "code",
   "execution_count": null,
   "id": "69e39a54",
   "metadata": {},
   "outputs": [],
   "source": []
  }
 ],
 "metadata": {
  "kernelspec": {
   "display_name": "Python 3 (ipykernel)",
   "language": "python",
   "name": "python3"
  },
  "language_info": {
   "codemirror_mode": {
    "name": "ipython",
    "version": 3
   },
   "file_extension": ".py",
   "mimetype": "text/x-python",
   "name": "python",
   "nbconvert_exporter": "python",
   "pygments_lexer": "ipython3",
   "version": "3.10.7"
  }
 },
 "nbformat": 4,
 "nbformat_minor": 5
}
